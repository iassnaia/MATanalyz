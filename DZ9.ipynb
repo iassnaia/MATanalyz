{
 "cells": [
  {
   "cell_type": "markdown",
   "id": "6e1f8e12",
   "metadata": {},
   "source": [
    
   ]
  },
  {
   "cell_type": "code",
   "execution_count": 1,
   "id": "187a238e",
   "metadata": {},
   "outputs": [],
   "source": [
    "from sympy import symbols, diff, Function, sin, cos, Eq, solve, ln"
   ]
  },
  {
   "cell_type": "code",
   "execution_count": 6,
   "id": "0f6a8517",
   "metadata": {},
   "outputs": [
    {
     "data": {
      "text/latex": [
       "$\\displaystyle - a^{2} \\sin^{2}{\\left(t \\right)} + a^{2} \\cos^{2}{\\left(t \\right)}$"
      ],
      "text/plain": [
       "-a**2*sin(t)**2 + a**2*cos(t)**2"
      ]
     },
     "execution_count": 6,
     "metadata": {},
     "output_type": "execute_result"
    }
   ],
   "source": [
    "# Задание 1\n",
    "t = symbols('t')\n",
    "a = symbols('a')\n",
    "x = a * sin(t)\n",
    "y = a * cos(t)\n",
    "z = x**2 + y**2 + x*y\n",
    "\n",
    "# Производная z по t\n",
    "dz_dt = diff(z, t)\n",
    "dz_dt"
   ]
  },
  {
   "cell_type": "markdown",
   "id": "02ec7dcd",
   "metadata": {},
   "source": [
  
   ]
  },
  {
   "cell_type": "code",
   "execution_count": 7,
   "id": "eb3c6acb",
   "metadata": {},
   "outputs": [
    {
     "data": {
      "text/latex": [
       "$\\displaystyle 3 u^{2} v^{3} + \\frac{3 u^{2}}{v^{3}}$"
      ],
      "text/plain": [
       "3*u**2*v**3 + 3*u**2/v**3"
      ]
     },
     "execution_count": 7,
     "metadata": {},
     "output_type": "execute_result"
    }
   ],
   "source": [
    "# Задание 2\n",
    "u, v = symbols('u v')\n",
    "x = u * v\n",
    "y = u / v\n",
    "z = x**3 + y**3\n",
    "\n",
    "# Производная z по u и по v\n",
    "dz_du = diff(z, u)\n",
    "dz_du"
   ]
  },
  {
   "cell_type": "code",
   "execution_count": 8,
   "id": "3cba0c8a",
   "metadata": {},
   "outputs": [
    {
     "data": {
      "text/latex": [
       "$\\displaystyle 3 u^{3} v^{2} - \\frac{3 u^{3}}{v^{4}}$"
      ],
      "text/plain": [
       "3*u**3*v**2 - 3*u**3/v**4"
      ]
     },
     "execution_count": 8,
     "metadata": {},
     "output_type": "execute_result"
    }
   ],
   "source": [
    "dz_dv = diff(z, v)\n",
    "dz_dv"
   ]
  },
  {
   "cell_type": "code",
   "execution_count": 9,
   "id": "f3992abb",
   "metadata": {},
   "outputs": [
    {
     "data": {
      "text/latex": [
       "$\\displaystyle - \\frac{u \\left(3 u^{3} v^{2} - \\frac{3 u^{3}}{v^{4}}\\right)}{v^{2}} + v \\left(3 u^{2} v^{3} + \\frac{3 u^{2}}{v^{3}}\\right)$"
      ],
      "text/plain": [
       "-u*(3*u**3*v**2 - 3*u**3/v**4)/v**2 + v*(3*u**2*v**3 + 3*u**2/v**3)"
      ]
     },
     "execution_count": 9,
     "metadata": {},
     "output_type": "execute_result"
    }
   ],
   "source": [
    "# Полный дифференциал dz\n",
    "dz = dz_du * diff(x, u) + dz_dv * diff(y, v)\n",
    "dz"
   ]
  },
  {
   "cell_type": "markdown",
   "id": "440c4039",
   "metadata": {},
   "source": [
  
   ]
  },
  {
   "cell_type": "code",
   "execution_count": 10,
   "id": "75898258",
   "metadata": {},
   "outputs": [
    {
     "data": {
      "text/latex": [
       "$\\displaystyle y \\log{\\left(y \\right)}$"
      ],
      "text/plain": [
       "y*log(y)"
      ]
     },
     "execution_count": 10,
     "metadata": {},
     "output_type": "execute_result"
    }
   ],
   "source": [
    "# Задание 3\n",
    "x, y = symbols('x y')\n",
    "equation = Eq(x * y * ln(y), 8)\n",
    "\n",
    "# Нахождение y'\n",
    "y_prime = diff(equation.lhs, x)\n",
    "y_prime"
   ]
  },
  {
   "cell_type": "markdown",
   "id": "92513da5",
   "metadata": {},
   "source": [
    
   ]
  },
  {
   "cell_type": "code",
   "execution_count": 11,
   "id": "32f105f0",
   "metadata": {},
   "outputs": [
    {
     "data": {
      "text/latex": [
       "$\\displaystyle 3 x^{2}$"
      ],
      "text/plain": [
       "3*x**2"
      ]
     },
     "execution_count": 11,
     "metadata": {},
     "output_type": "execute_result"
    }
   ],
   "source": [
    "# Задание 4\n",
    "F = x**3 - y**3 - 6\n",
    "x0, y0 = 2, 1\n",
    "\n",
    "# Производная F по x и по y\n",
    "dF_dx = diff(F, x)\n",
    "dF_dx"
   ]
  },
  {
   "cell_type": "code",
   "execution_count": 12,
   "id": "e3dbc74a",
   "metadata": {},
   "outputs": [
    {
     "data": {
      "text/latex": [
       "$\\displaystyle - 3 y^{2}$"
      ],
      "text/plain": [
       "-3*y**2"
      ]
     },
     "execution_count": 12,
     "metadata": {},
     "output_type": "execute_result"
    }
   ],
   "source": [
    "dF_dy = diff(F, y)\n",
    "dF_dy"
   ]
  },
  {
   "cell_type": "code",
   "execution_count": 13,
   "id": "ae6b3f1d",
   "metadata": {},
   "outputs": [
    {
     "data": {
      "text/latex": [
       "$\\displaystyle 4$"
      ],
      "text/plain": [
       "4"
      ]
     },
     "execution_count": 13,
     "metadata": {},
     "output_type": "execute_result"
    }
   ],
   "source": [
    "# Коэффициенты касательной прямой\n",
    "m = -dF_dx.subs({x: x0, y: y0}) / dF_dy.subs({x: x0, y: y0})\n",
    "m"
   ]
  },
  {
   "cell_type": "code",
   "execution_count": 14,
   "id": "e80089c8",
   "metadata": {},
   "outputs": [
    {
     "data": {
      "text/latex": [
       "$\\displaystyle y - 1 = 4 x - 8$"
      ],
      "text/plain": [
       "Eq(y - 1, 4*x - 8)"
      ]
     },
     "execution_count": 14,
     "metadata": {},
     "output_type": "execute_result"
    }
   ],
   "source": [
    "# Уравнение касательной\n",
    "tangent_line = Eq(y - y0, m * (x - x0))\n",
    "tangent_line"
   ]
  },
  {
   "cell_type": "code",
   "execution_count": 15,
   "id": "45eac54a",
   "metadata": {},
   "outputs": [
    {
     "data": {
      "text/latex": [
       "$\\displaystyle y - 1 = \\frac{1}{2} - \\frac{x}{4}$"
      ],
      "text/plain": [
       "Eq(y - 1, 1/2 - x/4)"
      ]
     },
     "execution_count": 15,
     "metadata": {},
     "output_type": "execute_result"
    }
   ],
   "source": [
    "# Уравнение нормали\n",
    "normal_line = Eq(y - y0, -1/m * (x - x0))\n",
    "normal_line"
   ]
  },
  {
   "cell_type": "markdown",
   "id": "972db78e",
   "metadata": {},
   "source": [
   
   ]
  },
  {
   "cell_type": "code",
   "execution_count": 16,
   "id": "bab1aad3",
   "metadata": {},
   "outputs": [
    {
     "data": {
      "text/latex": [
       "$\\displaystyle a \\cos{\\left(t \\right)}$"
      ],
      "text/plain": [
       "a*cos(t)"
      ]
     },
     "execution_count": 16,
     "metadata": {},
     "output_type": "execute_result"
    }
   ],
   "source": [
    "# Задание 5\n",
    "a, t = symbols('a t')\n",
    "x = a * cos(t)\n",
    "y = a * sin(t)\n",
    "\n",
    "# Производная y по t\n",
    "dy_dt = diff(y, t)\n",
    "dy_dt"
   ]
  },
  {
   "cell_type": "code",
   "execution_count": 17,
   "id": "1688a501",
   "metadata": {},
   "outputs": [
    {
     "data": {
      "text/latex": [
       "$\\displaystyle - a \\sin{\\left(t \\right)}$"
      ],
      "text/plain": [
       "-a*sin(t)"
      ]
     },
     "execution_count": 17,
     "metadata": {},
     "output_type": "execute_result"
    }
   ],
   "source": [
    "# Производная x по t\n",
    "dx_dt = diff(x, t)\n",
    "dx_dt"
   ]
  },
  {
   "cell_type": "code",
   "execution_count": 18,
   "id": "c1270634",
   "metadata": {},
   "outputs": [
    {
     "data": {
      "text/latex": [
       "$\\displaystyle a t \\cos{\\left(t \\right)}$"
      ],
      "text/plain": [
       "a*t*cos(t)"
      ]
     },
     "execution_count": 18,
     "metadata": {},
     "output_type": "execute_result"
    }
   ],
   "source": [
    "# Полный дифференциал\n",
    "dy = dy_dt * t\n",
    "dy"
   ]
  },
  {
   "cell_type": "code",
   "execution_count": 19,
   "id": "4eb184af",
   "metadata": {},
   "outputs": [
    {
     "data": {
      "text/latex": [
       "$\\displaystyle - a t \\sin{\\left(t \\right)}$"
      ],
      "text/plain": [
       "-a*t*sin(t)"
      ]
     },
     "execution_count": 19,
     "metadata": {},
     "output_type": "execute_result"
    }
   ],
   "source": [
    "dx = dx_dt * t\n",
    "dx"
   ]
  },
  {
   "cell_type": "code",
   "execution_count": null,
   "id": "85a8a10b",
   "metadata": {},
   "outputs": [],
   "source": []
  }
 ],
 "metadata": {
  "kernelspec": {
   "display_name": "Python 3 (ipykernel)",
   "language": "python",
   "name": "python3"
  },
  "language_info": {
   "codemirror_mode": {
    "name": "ipython",
    "version": 3
   },
   "file_extension": ".py",
   "mimetype": "text/x-python",
   "name": "python",
   "nbconvert_exporter": "python",
   "pygments_lexer": "ipython3",
   "version": "3.9.13"
  }
 },
 "nbformat": 4,
 "nbformat_minor": 5
}

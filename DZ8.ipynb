{
 "cells": [
  {
   "cell_type": "markdown",
   "id": "f5619f85",
   "metadata": {},
   "source": [
    "## 1. Найти область определения функции"
   ]
  },
  {
   "cell_type": "code",
   "execution_count": 47,
   "id": "5190f912",
   "metadata": {},
   "outputs": [],
   "source": [
    "from sympy import symbols, sqrt, ln, diff, cos, solve, hessian, Matrix\n"
   ]
  },
  {
   "cell_type": "code",
   "execution_count": 2,
   "id": "6ba81f09",
   "metadata": {},
   "outputs": [],
   "source": [
    "x, y = symbols('x y')"
   ]
  },
  {
   "cell_type": "code",
   "execution_count": 3,
   "id": "01c52d9c",
   "metadata": {},
   "outputs": [
    {
     "data": {
      "text/latex": [
       "$\\displaystyle \\sqrt{1 - x^{3}} + \\log{\\left(y^{2} - 1 \\right)}$"
      ],
      "text/plain": [
       "sqrt(1 - x**3) + log(y**2 - 1)"
      ]
     },
     "execution_count": 3,
     "metadata": {},
     "output_type": "execute_result"
    }
   ],
   "source": [
    "z = sqrt(1 - x**3) + ln(y**2 - 1)\n",
    "z"
   ]
  },
  {
   "cell_type": "markdown",
   "id": "e40a0263",
   "metadata": {},
   "source": [
    "## 2. Найти производные 1-го порядка функции"
   ]
  },
  {
   "cell_type": "code",
   "execution_count": 5,
   "id": "b94f3b7f",
   "metadata": {},
   "outputs": [],
   "source": [
    "x, y = symbols('x y')"
   ]
  },
  {
   "cell_type": "code",
   "execution_count": 6,
   "id": "614d1393",
   "metadata": {},
   "outputs": [
    {
     "data": {
      "text/latex": [
       "$\\displaystyle \\left(\\frac{\\log{\\left(x \\right)}}{\\log{\\left(y \\right)}} + 1\\right)^{3}$"
      ],
      "text/plain": [
       "(log(x)/log(y) + 1)**3"
      ]
     },
     "execution_count": 6,
     "metadata": {},
     "output_type": "execute_result"
    }
   ],
   "source": [
    "z = (1 + ln(x) / ln(y))**3\n",
    "z"
   ]
  },
  {
   "cell_type": "markdown",
   "id": "24907df9",
   "metadata": {},
   "source": [
    "Вычислим частные производные первого порядка"
   ]
  },
  {
   "cell_type": "code",
   "execution_count": 7,
   "id": "501df9ce",
   "metadata": {},
   "outputs": [
    {
     "data": {
      "text/latex": [
       "$\\displaystyle \\frac{3 \\left(\\frac{\\log{\\left(x \\right)}}{\\log{\\left(y \\right)}} + 1\\right)^{2}}{x \\log{\\left(y \\right)}}$"
      ],
      "text/plain": [
       "3*(log(x)/log(y) + 1)**2/(x*log(y))"
      ]
     },
     "execution_count": 7,
     "metadata": {},
     "output_type": "execute_result"
    }
   ],
   "source": [
    "dz_dx = diff(z, x)\n",
    "dz_dx"
   ]
  },
  {
   "cell_type": "code",
   "execution_count": 8,
   "id": "0ee6e079",
   "metadata": {},
   "outputs": [
    {
     "data": {
      "text/latex": [
       "$\\displaystyle - \\frac{3 \\left(\\frac{\\log{\\left(x \\right)}}{\\log{\\left(y \\right)}} + 1\\right)^{2} \\log{\\left(x \\right)}}{y \\log{\\left(y \\right)}^{2}}$"
      ],
      "text/plain": [
       "-3*(log(x)/log(y) + 1)**2*log(x)/(y*log(y)**2)"
      ]
     },
     "execution_count": 8,
     "metadata": {},
     "output_type": "execute_result"
    }
   ],
   "source": [
    "dz_dy = diff(z, y)\n",
    "dz_dy"
   ]
  },
  {
   "cell_type": "markdown",
   "id": "8d128a03",
   "metadata": {},
   "source": [
    "## 3. Найти полный дифференциал функции в точке (1;1)"
   ]
  },
  {
   "cell_type": "code",
   "execution_count": 10,
   "id": "dde03e1b",
   "metadata": {},
   "outputs": [],
   "source": [
    "x, y = symbols('x y')"
   ]
  },
  {
   "cell_type": "code",
   "execution_count": 11,
   "id": "d109fcb7",
   "metadata": {},
   "outputs": [
    {
     "data": {
      "text/latex": [
       "$\\displaystyle \\sqrt{2 x y + \\cos{\\left(\\frac{x}{y} \\right)}}$"
      ],
      "text/plain": [
       "sqrt(2*x*y + cos(x/y))"
      ]
     },
     "execution_count": 11,
     "metadata": {},
     "output_type": "execute_result"
    }
   ],
   "source": [
    "z = sqrt(2 * x * y + cos(x / y))\n",
    "z"
   ]
  },
  {
   "cell_type": "markdown",
   "id": "488af814",
   "metadata": {},
   "source": [
    "Вычислим частные производные"
   ]
  },
  {
   "cell_type": "code",
   "execution_count": 12,
   "id": "065afc7a",
   "metadata": {},
   "outputs": [
    {
     "data": {
      "text/latex": [
       "$\\displaystyle \\frac{y - \\frac{\\sin{\\left(\\frac{x}{y} \\right)}}{2 y}}{\\sqrt{2 x y + \\cos{\\left(\\frac{x}{y} \\right)}}}$"
      ],
      "text/plain": [
       "(y - sin(x/y)/(2*y))/sqrt(2*x*y + cos(x/y))"
      ]
     },
     "execution_count": 12,
     "metadata": {},
     "output_type": "execute_result"
    }
   ],
   "source": [
    "dz_dx = diff(z, x)\n",
    "dz_dx"
   ]
  },
  {
   "cell_type": "code",
   "execution_count": 13,
   "id": "1a066f1f",
   "metadata": {},
   "outputs": [
    {
     "data": {
      "text/latex": [
       "$\\displaystyle \\frac{x + \\frac{x \\sin{\\left(\\frac{x}{y} \\right)}}{2 y^{2}}}{\\sqrt{2 x y + \\cos{\\left(\\frac{x}{y} \\right)}}}$"
      ],
      "text/plain": [
       "(x + x*sin(x/y)/(2*y**2))/sqrt(2*x*y + cos(x/y))"
      ]
     },
     "execution_count": 13,
     "metadata": {},
     "output_type": "execute_result"
    }
   ],
   "source": [
    "dz_dy = diff(z, y)\n",
    "dz_dy"
   ]
  },
  {
   "cell_type": "code",
   "execution_count": 14,
   "id": "4a3dc949",
   "metadata": {},
   "outputs": [],
   "source": [
    "#Определяем суть\n",
    "point = {x: 1, y: 1}"
   ]
  },
  {
   "cell_type": "markdown",
   "id": "bd937cdd",
   "metadata": {},
   "source": [
    "Оцениваем частные производные в данной точке"
   ]
  },
  {
   "cell_type": "code",
   "execution_count": 15,
   "id": "449f88f0",
   "metadata": {},
   "outputs": [
    {
     "data": {
      "text/latex": [
       "$\\displaystyle 0.363441250609152$"
      ],
      "text/plain": [
       "0.363441250609152"
      ]
     },
     "execution_count": 15,
     "metadata": {},
     "output_type": "execute_result"
    }
   ],
   "source": [
    "dz_dx_at_point = dz_dx.evalf(subs=point)\n",
    "dz_dx_at_point"
   ]
  },
  {
   "cell_type": "code",
   "execution_count": 16,
   "id": "05536a8e",
   "metadata": {},
   "outputs": [
    {
     "data": {
      "text/latex": [
       "$\\displaystyle 0.891395687760967$"
      ],
      "text/plain": [
       "0.891395687760967"
      ]
     },
     "execution_count": 16,
     "metadata": {},
     "output_type": "execute_result"
    }
   ],
   "source": [
    "dz_dy_at_point = dz_dy.evalf(subs=point)\n",
    "dz_dy_at_point"
   ]
  },
  {
   "cell_type": "markdown",
   "id": "4bfb5607",
   "metadata": {},
   "source": [
    "Рассчитаем общий дифференциал"
   ]
  },
  {
   "cell_type": "code",
   "execution_count": 17,
   "id": "95e5d0e3",
   "metadata": {},
   "outputs": [
    {
     "data": {
      "text/latex": [
       "$\\displaystyle 0.363441250609152 x + 0.891395687760967 y - 1.25483693837012$"
      ],
      "text/plain": [
       "0.363441250609152*x + 0.891395687760967*y - 1.25483693837012"
      ]
     },
     "execution_count": 17,
     "metadata": {},
     "output_type": "execute_result"
    }
   ],
   "source": [
    "dz = dz_dx_at_point * (x - 1) + dz_dy_at_point * (y - 1)\n",
    "dz"
   ]
  },
  {
   "cell_type": "markdown",
   "id": "50400d93",
   "metadata": {},
   "source": [
    "## 4. Исследовать на экстремум функцию"
   ]
  },
  {
   "cell_type": "code",
   "execution_count": 20,
   "id": "56f59ac9",
   "metadata": {},
   "outputs": [],
   "source": [
    "x, y = symbols('x y')"
   ]
  },
  {
   "cell_type": "markdown",
   "id": "dd8e8390",
   "metadata": {},
   "source": [
    "Определяем функцию"
   ]
  },
  {
   "cell_type": "code",
   "execution_count": 21,
   "id": "33684775",
   "metadata": {},
   "outputs": [],
   "source": [
    "z = x**2 + x * y + y**2 - 6 * x - 9 * y"
   ]
  },
  {
   "cell_type": "markdown",
   "id": "2089e991",
   "metadata": {},
   "source": [
    "Вычислим частные производные первого порядка"
   ]
  },
  {
   "cell_type": "code",
   "execution_count": 37,
   "id": "a594c94c",
   "metadata": {},
   "outputs": [
    {
     "data": {
      "text/latex": [
       "$\\displaystyle 2 x + y - 6$"
      ],
      "text/plain": [
       "2*x + y - 6"
      ]
     },
     "execution_count": 37,
     "metadata": {},
     "output_type": "execute_result"
    }
   ],
   "source": [
    "dz_dx = diff(z, x)\n",
    "dz_dx"
   ]
  },
  {
   "cell_type": "code",
   "execution_count": 34,
   "id": "4d71d3dc",
   "metadata": {},
   "outputs": [
    {
     "data": {
      "text/latex": [
       "$\\displaystyle x + 2 y - 9$"
      ],
      "text/plain": [
       "x + 2*y - 9"
      ]
     },
     "execution_count": 34,
     "metadata": {},
     "output_type": "execute_result"
    }
   ],
   "source": [
    "dz_dy = diff(z, y)\n",
    "dz_dy"
   ]
  },
  {
   "cell_type": "markdown",
   "id": "952ecc5d",
   "metadata": {},
   "source": [
    "\n",
    "Найдем критические точки"
   ]
  },
  {
   "cell_type": "code",
   "execution_count": 35,
   "id": "0dd6a903",
   "metadata": {},
   "outputs": [
    {
     "data": {
      "text/plain": [
       "{x: 1, y: 4}"
      ]
     },
     "execution_count": 35,
     "metadata": {},
     "output_type": "execute_result"
    }
   ],
   "source": [
    "critical_points = solve([dz_dx, dz_dy], (x, y))\n",
    "critical_points"
   ]
  },
  {
   "cell_type": "markdown",
   "id": "2389cb11",
   "metadata": {},
   "source": [
    "Убедимся, что Critical_points представляет собой список кортежей."
   ]
  },
  {
   "cell_type": "code",
   "execution_count": 43,
   "id": "a504898e",
   "metadata": {},
   "outputs": [],
   "source": [
    "if isinstance(critical_points, dict):\n",
    "    critical_points = [critical_points]\n",
    "elif isinstance(critical_points, tuple):\n",
    "    critical_points = [critical_points]"
   ]
  },
  {
   "cell_type": "markdown",
   "id": "1181504a",
   "metadata": {},
   "source": [
    "Вычислим матрицу Гессе"
   ]
  },
  {
   "cell_type": "code",
   "execution_count": 44,
   "id": "c78db7d4",
   "metadata": {},
   "outputs": [
    {
     "data": {
      "text/latex": [
       "$\\displaystyle \\left[\\begin{matrix}2 & 1\\\\1 & 2\\end{matrix}\\right]$"
      ],
      "text/plain": [
       "Matrix([\n",
       "[2, 1],\n",
       "[1, 2]])"
      ]
     },
     "execution_count": 44,
     "metadata": {},
     "output_type": "execute_result"
    }
   ],
   "source": [
    "H = hessian(z, (x, y))\n",
    "H"
   ]
  },
  {
   "cell_type": "markdown",
   "id": "58cb8a4f",
   "metadata": {},
   "source": [
    "\n",
    "Оценим матрицу Гессе в каждой критической точке"
   ]
  },
  {
   "cell_type": "code",
   "execution_count": 45,
   "id": "aaca9caf",
   "metadata": {},
   "outputs": [
    {
     "data": {
      "text/plain": [
       "[Matrix([\n",
       " [2, 1],\n",
       " [1, 2]])]"
      ]
     },
     "execution_count": 45,
     "metadata": {},
     "output_type": "execute_result"
    }
   ],
   "source": [
    "H_at_critical_points = [H.subs(pt) for pt in critical_points]\n",
    "H_at_critical_points"
   ]
  },
  {
   "cell_type": "markdown",
   "id": "6f6bba6d",
   "metadata": {},
   "source": [
    "\n",
    "Определим природу критических точек, оценив определитель Гессе."
   ]
  },
  {
   "cell_type": "code",
   "execution_count": 48,
   "id": "9638854f",
   "metadata": {},
   "outputs": [
    {
     "data": {
      "text/plain": [
       "([3], [{x: 1, y: 4}])"
      ]
     },
     "execution_count": 48,
     "metadata": {},
     "output_type": "execute_result"
    }
   ],
   "source": [
    "Hessian_determinants = [Matrix(H_at).det() for H_at in H_at_critical_points]\n",
    "\n",
    "Hessian_determinants, critical_points"
   ]
  },
  {
   "cell_type": "code",
   "execution_count": null,
   "id": "cbd34ce2",
   "metadata": {},
   "outputs": [],
   "source": []
  }
 ],
 "metadata": {
  "kernelspec": {
   "display_name": "Python 3 (ipykernel)",
   "language": "python",
   "name": "python3"
  },
  "language_info": {
   "codemirror_mode": {
    "name": "ipython",
    "version": 3
   },
   "file_extension": ".py",
   "mimetype": "text/x-python",
   "name": "python",
   "nbconvert_exporter": "python",
   "pygments_lexer": "ipython3",
   "version": "3.9.13"
  }
 },
 "nbformat": 4,
 "nbformat_minor": 5
}

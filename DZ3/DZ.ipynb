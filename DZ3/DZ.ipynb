{
 "cells": [
  {
   "cell_type": "markdown",
   "id": "de6d0a9d",
   "metadata": {},
   "source": [
    "![dz3](dz3.png)"
   ]
  },
  {
   "cell_type": "code",
   "execution_count": 1,
   "id": "211d0680",
   "metadata": {},
   "outputs": [],
   "source": [
    "import sympy as sp"
   ]
  },
  {
   "cell_type": "code",
   "execution_count": 2,
   "id": "151900e7",
   "metadata": {},
   "outputs": [
    {
     "name": "stdout",
     "output_type": "stream",
     "text": [
      "Задача 1a - Предел для четных n: oo, Предел для нечетных n: 0\n",
      "Задача 1b - Неограниченность для четных n: True, Неограниченность для нечетных n: False\n"
     ]
    }
   ],
   "source": [
    "# Задача 1\n",
    "n = sp.symbols('n', integer=True)\n",
    "x_n = n**((-1)**n)\n",
    "x_even = x_n.subs(n, 2*n)\n",
    "x_odd = x_n.subs(n, 2*n + 1)\n",
    "limit_even = sp.limit(x_even, n, sp.oo)\n",
    "limit_odd = sp.limit(x_odd, n, sp.oo)\n",
    "is_unbounded_even = sp.oo in [limit_even]\n",
    "is_unbounded_odd = sp.oo in [limit_odd]\n",
    "\n",
    "print(f\"Задача 1a - Предел для четных n: {limit_even}, Предел для нечетных n: {limit_odd}\")\n",
    "print(f\"Задача 1b - Неограниченность для четных n: {is_unbounded_even}, Неограниченность для нечетных n: {is_unbounded_odd}\")"
   ]
  },
  {
   "cell_type": "markdown",
   "id": "640bcc28",
   "metadata": {},
   "source": [
    "Последовательность \n",
    "sin\n",
    "⁡\n",
    "𝑛\n",
    "sinn действительно осциллирует и не имеет предела. Это следует из того, что \n",
    "sin\n",
    "⁡\n",
    "𝑛\n",
    "sinn принимает значения на отрезке \n",
    "[\n",
    "−\n",
    "1\n",
    ",\n",
    "1\n",
    "]\n",
    "[−1,1], но не стабилизируется на каком-либо значении при \n",
    "𝑛\n",
    "→\n",
    "∞\n",
    "n→∞.\n",
    "\n",
    "Доказательство расходимости последовательности \n",
    "sin\n",
    "⁡\n",
    "𝑛\n",
    "sinn:\n",
    "Осцилляция:\n",
    "Значения функции \n",
    "sin\n",
    "⁡\n",
    "𝑛\n",
    "sinn периодически изменяются, так как аргумент \n",
    "𝑛\n",
    "n пробегает через множество целых чисел. Таким образом, последовательность \n",
    "sin\n",
    "⁡\n",
    "𝑛\n",
    "sinn не может иметь один определённый предел.\n",
    "\n",
    "Свойство предела подпоследовательностей:\n",
    "Если последовательность имеет предел, то все её подпоследовательности сходятся к тому же пределу. Рассмотрим подпоследовательности:\n",
    "\n",
    "sin\n",
    "⁡\n",
    "(\n",
    "𝑛\n",
    "+\n",
    "2\n",
    "𝜋\n",
    "𝑘\n",
    ")\n",
    "sin(n+2πk), где \n",
    "𝑘\n",
    "∈\n",
    "𝑍\n",
    "k∈Z\n",
    "Для различных \n",
    "𝑘\n",
    "k, значения будут периодически различаться, так как \n",
    "sin\n",
    "⁡\n",
    "sin функция периодическая."
   ]
  },
  {
   "cell_type": "code",
   "execution_count": 3,
   "id": "2c3b52a6",
   "metadata": {},
   "outputs": [
    {
     "name": "stdout",
     "output_type": "stream",
     "text": [
      "Задача 2 - Последовательность sin(n) является осциллирующей и не имеет предела.\n"
     ]
    }
   ],
   "source": [
    "# Задача 2\n",
    "sin_n = sp.sin(n)\n",
    "# Мы можем использовать осциллирующий характер sin(n) для доказательства расходимости\n",
    "print(f\"Задача 2 - Последовательность {sin_n} является осциллирующей и не имеет предела.\")"
   ]
  },
  {
   "cell_type": "code",
   "execution_count": 4,
   "id": "c41595cc",
   "metadata": {},
   "outputs": [
    {
     "name": "stdout",
     "output_type": "stream",
     "text": [
      "Задача 3a - Предел: 0\n",
      "Задача 3b - Предел: oo\n",
      "Задача 3c - Предел: 5\n"
     ]
    }
   ],
   "source": [
    "# Задача 3\n",
    "expr_a = (10*n + 1) / (n**2 + 1)\n",
    "limit_a = sp.limit(expr_a, n, sp.oo)\n",
    "expr_b = (n**2 - n) / sp.sqrt(n)\n",
    "limit_b = sp.limit(expr_b, n, sp.oo)\n",
    "expr_c = (5 * 3**n) / (3**n - 2)\n",
    "limit_c = sp.limit(expr_c, n, sp.oo)\n",
    "\n",
    "print(f\"Задача 3a - Предел: {limit_a}\")\n",
    "print(f\"Задача 3b - Предел: {limit_b}\")\n",
    "print(f\"Задача 3c - Предел: {limit_c}\")"
   ]
  },
  {
   "cell_type": "code",
   "execution_count": 5,
   "id": "56cd4c76",
   "metadata": {},
   "outputs": [
    {
     "name": "stdout",
     "output_type": "stream",
     "text": [
      "Задача 4 - Предел: 1/2\n"
     ]
    }
   ],
   "source": [
    "# Задача 4\n",
    "expr_d = sp.sqrt(n**2 + n) - n\n",
    "limit_d = sp.limit(expr_d, n, sp.oo)\n",
    "print(f\"Задача 4 - Предел: {limit_d}\")"
   ]
  },
  {
   "cell_type": "code",
   "execution_count": 6,
   "id": "a99d5830",
   "metadata": {},
   "outputs": [
    {
     "name": "stdout",
     "output_type": "stream",
     "text": [
      "Задача 5 - Предел: 0\n"
     ]
    }
   ],
   "source": [
    "# Задача 5\n",
    "expr_e = (sp.sqrt(n) * sp.cos(n)) / (n + 1)\n",
    "limit_e = sp.limit(expr_e, n, sp.oo)\n",
    "print(f\"Задача 5 - Предел: {limit_e}\")"
   ]
  },
  {
   "cell_type": "code",
   "execution_count": 9,
   "id": "ff59c2a1",
   "metadata": {},
   "outputs": [
    {
     "name": "stdout",
     "output_type": "stream",
     "text": [
      "Проверка расходимости последовательности sin(n):\n",
      "n = 1, sin(n) = 0.8414709848078965\n",
      "n = 2, sin(n) = 0.9092974268256817\n",
      "n = 3, sin(n) = 0.1411200080598672\n",
      "n = 4, sin(n) = -0.7568024953079282\n",
      "n = 5, sin(n) = -0.9589242746631385\n",
      "n = 6, sin(n) = -0.27941549819892586\n",
      "n = 7, sin(n) = 0.6569865987187891\n",
      "n = 8, sin(n) = 0.9893582466233818\n",
      "n = 9, sin(n) = 0.4121184852417566\n",
      "n = 10, sin(n) = -0.5440211108893698\n",
      "n = 11, sin(n) = -0.9999902065507035\n",
      "n = 12, sin(n) = -0.5365729180004349\n",
      "n = 13, sin(n) = 0.4201670368266409\n",
      "n = 14, sin(n) = 0.9906073556948704\n",
      "n = 15, sin(n) = 0.6502878401571168\n",
      "n = 16, sin(n) = -0.2879033166650653\n",
      "n = 17, sin(n) = -0.9613974918795568\n",
      "n = 18, sin(n) = -0.7509872467716762\n",
      "n = 19, sin(n) = 0.14987720966295234\n",
      "n = 20, sin(n) = 0.9129452507276277\n"
     ]
    }
   ],
   "source": [
    "import sympy as sp\n",
    "import math\n",
    "\n",
    "# Проверка расходимости sin(n)\n",
    "def check_sin_oscillation(n_terms):\n",
    "    for n in range(1, n_terms + 1):\n",
    "        print(f\"n = {n}, sin(n) = {math.sin(n)}\")\n",
    "\n",
    "print(\"Проверка расходимости последовательности sin(n):\")\n",
    "check_sin_oscillation(20)"
   ]
  },
  {
   "cell_type": "markdown",
   "id": "c444fd56",
   "metadata": {},
   "source": [
    "Результаты для последовательности \n",
    "sin\n",
    "⁡\n",
    "𝑛\n",
    "sinn показывают, что она осциллирует и не имеет одного предела, что подтверждает её расходимость. "
   ]
  },
  {
   "cell_type": "code",
   "execution_count": 10,
   "id": "7431dc00",
   "metadata": {},
   "outputs": [],
   "source": [
    "# Численное нахождение пределов для задач\n",
    "def function_a(n):\n",
    "    return (10 * n + 1) / (n ** 2 + 1)\n",
    "\n",
    "def function_b(n):\n",
    "    return (n ** 2 - n) / math.sqrt(n)\n",
    "\n",
    "def function_c(n):\n",
    "    return (5 * 3 ** n) / (3 ** n - 2)\n",
    "\n",
    "def function_d(n):\n",
    "    return math.sqrt(n ** 2 + n) - n\n",
    "\n",
    "def function_e(n):\n",
    "    return (math.sqrt(n) * math.cos(n)) / (n + 1)\n",
    "\n",
    "def find_limit(func, epsilon=1e-7, initial_step=50):\n",
    "    delta = 1\n",
    "    n = 1\n",
    "    curr = func(n)\n",
    "    step = initial_step\n",
    "    while delta > epsilon:\n",
    "        next_value = func(n + step)\n",
    "        delta = abs(curr - next_value)\n",
    "        curr = next_value\n",
    "        n += step\n",
    "    return curr"
   ]
  },
  {
   "cell_type": "code",
   "execution_count": 12,
   "id": "64731dc2",
   "metadata": {},
   "outputs": [
    {
     "name": "stdout",
     "output_type": "stream",
     "text": [
      "Задача 3a - Предел: 0.00014134095817837372\n",
      "Задача 3c - Предел: 5.0\n",
      "Задача 4 - Предел: 0.49998427969603654\n",
      "Задача 5 - Предел: 0.0021408009400090693\n"
     ]
    }
   ],
   "source": [
    "# Вывод результатов\n",
    "print(f\"Задача 3a - Предел: {find_limit(function_a)}\")\n",
    "#print(f \"Задача 3b - Предел: {find_limit(function_b)}\") Предел: oo\n",
    "print(f\"Задача 3c - Предел: {find_limit(function_c)}\")\n",
    "print(f\"Задача 4 - Предел: {find_limit(function_d)}\")\n",
    "print(f\"Задача 5 - Предел: {find_limit(function_e)}\")"
   ]
  },
  {
   "cell_type": "code",
   "execution_count": null,
   "id": "d21b3659",
   "metadata": {},
   "outputs": [],
   "source": []
  }
 ],
 "metadata": {
  "kernelspec": {
   "display_name": "Python 3 (ipykernel)",
   "language": "python",
   "name": "python3"
  },
  "language_info": {
   "codemirror_mode": {
    "name": "ipython",
    "version": 3
   },
   "file_extension": ".py",
   "mimetype": "text/x-python",
   "name": "python",
   "nbconvert_exporter": "python",
   "pygments_lexer": "ipython3",
   "version": "3.9.13"
  }
 },
 "nbformat": 4,
 "nbformat_minor": 5
}

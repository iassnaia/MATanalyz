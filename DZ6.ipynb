{
 "cells": [
  {
   "cell_type": "markdown",
   "id": "95ff5963",
   "metadata": {},
   "source": [
    "1. Найти производные указанных функций"
   ]
  },
  {
   "cell_type": "code",
   "execution_count": 30,
   "id": "d762d29b",
   "metadata": {},
   "outputs": [],
   "source": [
    "from sympy import symbols, diff, log, atan, exp, sqrt, cos, sinh, ln, sin, tan, Eq"
   ]
  },
  {
   "cell_type": "code",
   "execution_count": 2,
   "id": "92898242",
   "metadata": {},
   "outputs": [],
   "source": [
    "# Определяем переменную\n",
    "x = symbols('x')"
   ]
  },
  {
   "cell_type": "code",
   "execution_count": 3,
   "id": "7155036a",
   "metadata": {},
   "outputs": [
    {
     "data": {
      "text/latex": [
       "$\\displaystyle \\frac{3 x^{2} \\log{\\left(x \\right)}}{\\log{\\left(2 \\right)}} + \\frac{x^{2}}{\\log{\\left(2 \\right)}}$"
      ],
      "text/plain": [
       "3*x**2*log(x)/log(2) + x**2/log(2)"
      ]
     },
     "execution_count": 3,
     "metadata": {},
     "output_type": "execute_result"
    }
   ],
   "source": [
    "# 1. y = x^3 * log2(x)\n",
    "y1 = x**3 * log(x, 2)\n",
    "dy1 = diff(y1, x)\n",
    "dy1"
   ]
  },
  {
   "cell_type": "code",
   "execution_count": 4,
   "id": "d53f59f3",
   "metadata": {},
   "outputs": [
    {
     "data": {
      "text/latex": [
       "$\\displaystyle 7 e^{x} - \\frac{10}{x^{2} + 1}$"
      ],
      "text/plain": [
       "7*exp(x) - 10/(x**2 + 1)"
      ]
     },
     "execution_count": 4,
     "metadata": {},
     "output_type": "execute_result"
    }
   ],
   "source": [
    "# 2. y = -10 * arctg(x) + 7 * e^x\n",
    "y2 = -10 * atan(x) + 7 * exp(x)\n",
    "dy2 = diff(y2, x)\n",
    "dy2"
   ]
  },
  {
   "cell_type": "code",
   "execution_count": 5,
   "id": "a22463e9",
   "metadata": {},
   "outputs": [
    {
     "data": {
      "text/latex": [
       "$\\displaystyle \\frac{0.5}{x^{0.5}} - \\frac{0.444444444444444}{x^{0.333333333333333}} + \\sqrt{7}$"
      ],
      "text/plain": [
       "0.5/x**0.5 - 0.444444444444444/x**0.333333333333333 + sqrt(7)"
      ]
     },
     "execution_count": 5,
     "metadata": {},
     "output_type": "execute_result"
    }
   ],
   "source": [
    "# 3. y = x^(1/2) - 2/3 * x^(2/3) + sqrt(7) * x\n",
    "y3 = x**(1/2) - 2/3 * x**(2/3) + sqrt(7) * x\n",
    "dy3 = diff(y3, x)\n",
    "dy3"
   ]
  },
  {
   "cell_type": "code",
   "execution_count": 6,
   "id": "2003198d",
   "metadata": {},
   "outputs": [
    {
     "data": {
      "text/latex": [
       "$\\displaystyle \\frac{\\sin{\\left(\\frac{1}{\\sqrt{x}} \\right)}}{2 x^{\\frac{3}{2}}}$"
      ],
      "text/plain": [
       "sin(1/sqrt(x))/(2*x**(3/2))"
      ]
     },
     "execution_count": 6,
     "metadata": {},
     "output_type": "execute_result"
    }
   ],
   "source": [
    "# 4. y = cos(1 / sqrt(x))\n",
    "y4 = cos(1 / sqrt(x))\n",
    "dy4 = diff(y4, x)\n",
    "dy4"
   ]
  },
  {
   "cell_type": "code",
   "execution_count": 7,
   "id": "7f770f6d",
   "metadata": {},
   "outputs": [
    {
     "data": {
      "text/latex": [
       "$\\displaystyle 2 x e^{\\sinh{\\left(x^{2} \\right)}} \\cosh{\\left(x^{2} \\right)}$"
      ],
      "text/plain": [
       "2*x*exp(sinh(x**2))*cosh(x**2)"
      ]
     },
     "execution_count": 7,
     "metadata": {},
     "output_type": "execute_result"
    }
   ],
   "source": [
    "# 5. y = e^(sinh(x^2))\n",
    "y5 = exp(sinh(x**2))\n",
    "dy5 = diff(y5, x)\n",
    "dy5"
   ]
  },
  {
   "cell_type": "code",
   "execution_count": 8,
   "id": "293cc4ae",
   "metadata": {},
   "outputs": [
    {
     "data": {
      "text/latex": [
       "$\\displaystyle \\frac{\\left(x^{2} + \\left(x + 3\\right)^{2}\\right) \\left(\\frac{\\left(- 4 x - 6\\right) \\left(x + 1\\right)}{\\left(x^{2} + \\left(x + 3\\right)^{2}\\right)^{2}} + \\frac{1}{x^{2} + \\left(x + 3\\right)^{2}}\\right)}{x + 1}$"
      ],
      "text/plain": [
       "(x**2 + (x + 3)**2)*((-4*x - 6)*(x + 1)/(x**2 + (x + 3)**2)**2 + 1/(x**2 + (x + 3)**2))/(x + 1)"
      ]
     },
     "execution_count": 8,
     "metadata": {},
     "output_type": "execute_result"
    }
   ],
   "source": [
    "# 6. y = ln((x+1)/(x^2 + (x+3)^2))\n",
    "y6 = ln((x + 1) / (x**2 + (x + 3)**2))\n",
    "dy6 = diff(y6, x)\n",
    "dy6"
   ]
  },
  {
   "cell_type": "code",
   "execution_count": 11,
   "id": "19e6ec4d",
   "metadata": {},
   "outputs": [
    {
     "data": {
      "text/latex": [
       "$\\displaystyle - 2 x \\cos{\\left(x \\right)} - \\frac{2 x \\cos{\\left(x \\right)} \\cos^{2}{\\left(x^{2} + 1 \\right)}}{\\sin^{2}{\\left(x^{2} + 1 \\right)}} - \\sin{\\left(x \\right)} - \\frac{\\sin{\\left(x \\right)} \\cos{\\left(x^{2} + 1 \\right)}}{\\sin{\\left(x^{2} + 1 \\right)}} - \\frac{\\sin{\\left(x \\right)} \\cos^{2}{\\left(x + 1 \\right)}}{\\sin^{2}{\\left(x + 1 \\right)}} + \\frac{\\cos{\\left(x \\right)} \\cos{\\left(x + 1 \\right)}}{\\sin{\\left(x + 1 \\right)}}$"
      ],
      "text/plain": [
       "-2*x*cos(x) - 2*x*cos(x)*cos(x**2 + 1)**2/sin(x**2 + 1)**2 - sin(x) - sin(x)*cos(x**2 + 1)/sin(x**2 + 1) - sin(x)*cos(x + 1)**2/sin(x + 1)**2 + cos(x)*cos(x + 1)/sin(x + 1)"
      ]
     },
     "execution_count": 11,
     "metadata": {},
     "output_type": "execute_result"
    }
   ],
   "source": [
    "# 7. y = (sin(x) / (tg(x + 1))) + (cos(x) / (tg(x^2 + 1)))\n",
    "# tg(x) = sin(x) / cos(x)\n",
    "y7 = (sin(x) / (sin(x + 1) / cos(x + 1))) + (cos(x) / (sin(x**2 + 1) / cos(x**2 + 1)))\n",
    "dy7 = diff(y7, x)\n",
    "dy7"
   ]
  },
  {
   "cell_type": "markdown",
   "id": "00526c68",
   "metadata": {},
   "source": [
    "2. Найти производную данной функции в точке:"
   ]
  },
  {
   "cell_type": "code",
   "execution_count": 12,
   "id": "29717d59",
   "metadata": {},
   "outputs": [],
   "source": [
    "# Определим переменную и точку\n",
    "x = symbols('x')\n",
    "x0_1 = exp(1)  # e\n",
    "x0_2 = 9"
   ]
  },
  {
   "cell_type": "code",
   "execution_count": 13,
   "id": "bb94c516",
   "metadata": {},
   "outputs": [
    {
     "data": {
      "text/latex": [
       "$\\displaystyle 0$"
      ],
      "text/plain": [
       "0"
      ]
     },
     "execution_count": 13,
     "metadata": {},
     "output_type": "execute_result"
    }
   ],
   "source": [
    "# 1. y = ln(x) / x, x0 = e\n",
    "y1 = ln(x) / x\n",
    "dy1 = diff(y1, x)\n",
    "dy1_at_x0_1 = dy1.subs(x, x0_1)\n",
    "dy1_at_x0_1"
   ]
  },
  {
   "cell_type": "code",
   "execution_count": 14,
   "id": "b972e84a",
   "metadata": {},
   "outputs": [
    {
     "data": {
      "text/latex": [
       "$\\displaystyle \\frac{\\sqrt{10}}{600}$"
      ],
      "text/plain": [
       "sqrt(10)/600"
      ]
     },
     "execution_count": 14,
     "metadata": {},
     "output_type": "execute_result"
    }
   ],
   "source": [
    "# 2. y = sqrt(x) / sqrt(x+1), x0 = 9\n",
    "y2 = sqrt(x) / sqrt(x + 1)\n",
    "dy2 = diff(y2, x)\n",
    "dy2_at_x0_2 = dy2.subs(x, x0_2)\n",
    "dy2_at_x0_2"
   ]
  },
  {
   "cell_type": "markdown",
   "id": "3dccd7db",
   "metadata": {},
   "source": [
    "3. Используя логарифмическую производную, найти производные функций:"
   ]
  },
  {
   "cell_type": "code",
   "execution_count": 15,
   "id": "3e0236d9",
   "metadata": {},
   "outputs": [],
   "source": [
    "# Определяем переменную\n",
    "x = symbols('x')"
   ]
  },
  {
   "cell_type": "code",
   "execution_count": 17,
   "id": "18165190",
   "metadata": {},
   "outputs": [
    {
     "data": {
      "text/latex": [
       "$\\displaystyle \\frac{2 x^{\\log{\\left(x \\right)}} \\log{\\left(x \\right)}}{x}$"
      ],
      "text/plain": [
       "2*x**log(x)*log(x)/x"
      ]
     },
     "execution_count": 17,
     "metadata": {},
     "output_type": "execute_result"
    }
   ],
   "source": [
    "# 1. y = x^(ln(x))\n",
    "y1 = x**ln(x)\n",
    "dy1 = diff(y1, x)\n",
    "dy1"
   ]
  },
  {
   "cell_type": "code",
   "execution_count": 18,
   "id": "1ffbf1f3",
   "metadata": {},
   "outputs": [
    {
     "data": {
      "text/latex": [
       "$\\displaystyle \\frac{\\sqrt{x - 1} \\cdot \\left(2 x - 2\\right)}{\\left(x + 3\\right)^{5} \\cos{\\left(x \\right)}} + \\frac{\\sqrt{x - 1} \\left(x^{2} - 2 x\\right) \\sin{\\left(x \\right)}}{\\left(x + 3\\right)^{5} \\cos^{2}{\\left(x \\right)}} - \\frac{5 \\sqrt{x - 1} \\left(x^{2} - 2 x\\right)}{\\left(x + 3\\right)^{6} \\cos{\\left(x \\right)}} + \\frac{x^{2} - 2 x}{2 \\sqrt{x - 1} \\left(x + 3\\right)^{5} \\cos{\\left(x \\right)}}$"
      ],
      "text/plain": [
       "sqrt(x - 1)*(2*x - 2)/((x + 3)**5*cos(x)) + sqrt(x - 1)*(x**2 - 2*x)*sin(x)/((x + 3)**5*cos(x)**2) - 5*sqrt(x - 1)*(x**2 - 2*x)/((x + 3)**6*cos(x)) + (x**2 - 2*x)/(2*sqrt(x - 1)*(x + 3)**5*cos(x))"
      ]
     },
     "execution_count": 18,
     "metadata": {},
     "output_type": "execute_result"
    }
   ],
   "source": [
    "# 2. y = ((x^2 - 2x) * sqrt(x - 1)) / ((x+3)^5 * cos(x))\n",
    "y2 = ((x**2 - 2*x) * sqrt(x - 1)) / ((x + 3)**5 * cos(x))\n",
    "dy2 = diff(y2, x)\n",
    "dy2"
   ]
  },
  {
   "cell_type": "code",
   "execution_count": 21,
   "id": "48ba71f0",
   "metadata": {},
   "outputs": [
    {
     "data": {
      "text/latex": [
       "$\\displaystyle \\left(\\frac{\\left(\\tan^{2}{\\left(x \\right)} + 1\\right) \\cos{\\left(x \\right)}}{\\tan{\\left(x \\right)}} - \\log{\\left(\\tan{\\left(x \\right)} \\right)} \\sin{\\left(x \\right)}\\right) \\tan^{\\cos{\\left(x \\right)}}{\\left(x \\right)}$"
      ],
      "text/plain": [
       "((tan(x)**2 + 1)*cos(x)/tan(x) - log(tan(x))*sin(x))*tan(x)**cos(x)"
      ]
     },
     "execution_count": 21,
     "metadata": {},
     "output_type": "execute_result"
    }
   ],
   "source": [
    "# 3. y = (tg(x))^cos(x)\n",
    "# tg(x) = tan(x)\n",
    "y3 = (tan(x))**cos(x)\n",
    "dy3 = diff(y3, x)\n",
    "dy3"
   ]
  },
  {
   "cell_type": "markdown",
   "id": "2578ba94",
   "metadata": {},
   "source": [
    "4. Найти производную неявно заданной функции:"
   ]
  },
  {
   "cell_type": "code",
   "execution_count": 22,
   "id": "0d54cd91",
   "metadata": {},
   "outputs": [],
   "source": [
    "x, y = symbols('x y')"
   ]
  },
  {
   "cell_type": "code",
   "execution_count": 23,
   "id": "a3dfc3ab",
   "metadata": {},
   "outputs": [
    {
     "data": {
      "text/latex": [
       "$\\displaystyle \\frac{- 2 x \\sin{\\left(x^{2} + y^{2} \\right)} - y e^{x y}}{x e^{x y} + 2 y \\sin{\\left(x^{2} + y^{2} \\right)}}$"
      ],
      "text/plain": [
       "(-2*x*sin(x**2 + y**2) - y*exp(x*y))/(x*exp(x*y) + 2*y*sin(x**2 + y**2))"
      ]
     },
     "execution_count": 23,
     "metadata": {},
     "output_type": "execute_result"
    }
   ],
   "source": [
    "# 1) e^(xy) - cos(x^2 + y^2) = 0\n",
    "f1 = exp(x * y) - cos(x**2 + y**2)\n",
    "df1_dy = diff(f1, y)\n",
    "df1_dx = diff(f1, x)\n",
    "dy_dx_1 = -df1_dx / df1_dy\n",
    "dy_dx_1"
   ]
  },
  {
   "cell_type": "code",
   "execution_count": 24,
   "id": "ba0c4db5",
   "metadata": {},
   "outputs": [
    {
     "data": {
      "text/latex": [
       "$\\displaystyle \\frac{- y \\cos{\\left(x \\right)} - \\sin{\\left(y \\right)}}{x \\cos{\\left(y \\right)} + \\sin{\\left(x \\right)}}$"
      ],
      "text/plain": [
       "(-y*cos(x) - sin(y))/(x*cos(y) + sin(x))"
      ]
     },
     "execution_count": 24,
     "metadata": {},
     "output_type": "execute_result"
    }
   ],
   "source": [
    "# 2) x sin(y) + y sin(x) = 0\n",
    "f2 = x * sin(y) + y * sin(x)\n",
    "df2_dy = diff(f2, y)\n",
    "df2_dx = diff(f2, x)\n",
    "dy_dx_2 = -df2_dx / df2_dy\n",
    "dy_dx_2"
   ]
  },
  {
   "cell_type": "markdown",
   "id": "2a074a09",
   "metadata": {},
   "source": [
    "5. Найти производную для заданных параметрически функций:"
   ]
  },
  {
   "cell_type": "code",
   "execution_count": 25,
   "id": "53c0d1ec",
   "metadata": {},
   "outputs": [],
   "source": [
    "t = symbols('t')"
   ]
  },
  {
   "cell_type": "code",
   "execution_count": 26,
   "id": "609a6009",
   "metadata": {},
   "outputs": [
    {
     "data": {
      "text/latex": [
       "$\\displaystyle \\frac{2 t + 1}{3 t^{2} + 1}$"
      ],
      "text/plain": [
       "(2*t + 1)/(3*t**2 + 1)"
      ]
     },
     "execution_count": 26,
     "metadata": {},
     "output_type": "execute_result"
    }
   ],
   "source": [
    "# 1) x = t^3 + t, y = t^2 + t + 1\n",
    "x1 = t**3 + t\n",
    "y1 = t**2 + t + 1\n",
    "dy1_dt = diff(y1, t)\n",
    "dx1_dt = diff(x1, t)\n",
    "dy_dx_param_1 = dy1_dt / dx1_dt\n",
    "dy_dx_param_1"
   ]
  },
  {
   "cell_type": "code",
   "execution_count": 27,
   "id": "6a9aa019",
   "metadata": {},
   "outputs": [
    {
     "data": {
      "text/latex": [
       "$\\displaystyle \\frac{- e^{t} \\sin{\\left(t \\right)} + e^{t} \\cos{\\left(t \\right)}}{e^{t} \\sin{\\left(t \\right)} + e^{t} \\cos{\\left(t \\right)}}$"
      ],
      "text/plain": [
       "(-exp(t)*sin(t) + exp(t)*cos(t))/(exp(t)*sin(t) + exp(t)*cos(t))"
      ]
     },
     "execution_count": 27,
     "metadata": {},
     "output_type": "execute_result"
    }
   ],
   "source": [
    "# 2) x = exp(t) * sin(t), y = exp(t) * cos(t)\n",
    "x2 = exp(t) * sin(t)\n",
    "y2 = exp(t) * cos(t)\n",
    "dy2_dt = diff(y2, t)\n",
    "dx2_dt = diff(x2, t)\n",
    "dy_dx_param_2 = dy2_dt / dx2_dt\n",
    "dy_dx_param_2"
   ]
  },
  {
   "cell_type": "markdown",
   "id": "121e4027",
   "metadata": {},
   "source": [
    "6. Найти уравнения касательной и нормали к данной кривой в точке x0:"
   ]
  },
  {
   "cell_type": "code",
   "execution_count": 28,
   "id": "756e0672",
   "metadata": {},
   "outputs": [],
   "source": [
    "x, y = symbols('x y')"
   ]
  },
  {
   "cell_type": "code",
   "execution_count": 31,
   "id": "51335fbb",
   "metadata": {},
   "outputs": [
    {
     "data": {
      "text/plain": [
       "(Eq(y - 1, x), Eq(y - 1, -x))"
      ]
     },
     "execution_count": 31,
     "metadata": {},
     "output_type": "execute_result"
    }
   ],
   "source": [
    "# 1) y = e^x, x0 = 0\n",
    "y3 = exp(x)\n",
    "x0 = 0\n",
    "slope_tangent = diff(y3, x).subs(x, x0)\n",
    "y0 = y3.subs(x, x0)\n",
    "tangent_line = Eq(y - y0, slope_tangent * (x - x0))\n",
    "normal_slope = -1 / slope_tangent\n",
    "normal_line = Eq(y - y0, normal_slope * (x - x0))\n",
    "\n",
    "tangent_line, normal_line"
   ]
  },
  {
   "cell_type": "markdown",
   "id": "787a4802",
   "metadata": {},
   "source": [
    "7. Найти производные указанных порядков для следующих функций:"
   ]
  },
  {
   "cell_type": "code",
   "execution_count": 32,
   "id": "5293841b",
   "metadata": {},
   "outputs": [],
   "source": [
    "x = symbols('x')"
   ]
  },
  {
   "cell_type": "code",
   "execution_count": 34,
   "id": "db5873cf",
   "metadata": {},
   "outputs": [
    {
     "data": {
      "text/latex": [
       "$\\displaystyle \\cos{\\left(x \\right)}$"
      ],
      "text/plain": [
       "cos(x)"
      ]
     },
     "execution_count": 34,
     "metadata": {},
     "output_type": "execute_result"
    }
   ],
   "source": [
    "# 1) y = x - cos(x), y'' = ?\n",
    "y4 = x - cos(x)\n",
    "y4_2nd_derivative = diff(y4, x, 2)\n",
    "y4_2nd_derivative"
   ]
  },
  {
   "cell_type": "code",
   "execution_count": 35,
   "id": "ab7db772",
   "metadata": {},
   "outputs": [
    {
     "data": {
      "text/latex": [
       "$\\displaystyle y^{2} e^{x y}$"
      ],
      "text/plain": [
       "y**2*exp(x*y)"
      ]
     },
     "execution_count": 35,
     "metadata": {},
     "output_type": "execute_result"
    }
   ],
   "source": [
    "# 2) y = e^(xy), y'' = ?\n",
    "# Здесь мы будем рассматривать \"y\" как константу для частных производных.\n",
    "y, x = symbols('y x')\n",
    "y5 = exp(x * y)\n",
    "y5_2nd_derivative = diff(y5, x, 2)\n",
    "y5_2nd_derivative"
   ]
  },
  {
   "cell_type": "code",
   "execution_count": 37,
   "id": "68d101fd",
   "metadata": {},
   "outputs": [
    {
     "data": {
      "text/latex": [
       "$\\displaystyle \\frac{2}{\\left(x + 1\\right)^{3}}$"
      ],
      "text/plain": [
       "2/(x + 1)**3"
      ]
     },
     "execution_count": 37,
     "metadata": {},
     "output_type": "execute_result"
    }
   ],
   "source": [
    "# 3) y = ln(1 + x), y(3) = ?\n",
    "y6 = ln(1 + x)\n",
    "y6_3rd_derivative = diff(y6, x, 3)\n",
    "y6_3rd_derivative"
   ]
  },
  {
   "cell_type": "code",
   "execution_count": null,
   "id": "f70b0404",
   "metadata": {},
   "outputs": [],
   "source": []
  }
 ],
 "metadata": {
  "kernelspec": {
   "display_name": "Python 3 (ipykernel)",
   "language": "python",
   "name": "python3"
  },
  "language_info": {
   "codemirror_mode": {
    "name": "ipython",
    "version": 3
   },
   "file_extension": ".py",
   "mimetype": "text/x-python",
   "name": "python",
   "nbconvert_exporter": "python",
   "pygments_lexer": "ipython3",
   "version": "3.9.13"
  }
 },
 "nbformat": 4,
 "nbformat_minor": 5
}

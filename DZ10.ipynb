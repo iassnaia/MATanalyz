{
 "cells": [
  {
   "cell_type": "markdown",
   "id": "3fd55d9a",
   "metadata": {},
   "source": [
   
   ]
  },
  {
   "cell_type": "code",
   "execution_count": 1,
   "id": "c23bd65d",
   "metadata": {},
   "outputs": [],
   "source": [
    "from sympy import symbols, integrate, cos, sin, atan, sqrt, log, exp, oo"
   ]
  },
  {
   "cell_type": "code",
   "execution_count": 2,
   "id": "e9ad9b96",
   "metadata": {},
   "outputs": [],
   "source": [
    "x = symbols('x')"
   ]
  },
  {
   "cell_type": "code",
   "execution_count": 5,
   "id": "90af15f7",
   "metadata": {},
   "outputs": [
    {
     "data": {
      "text/latex": [
       "$\\displaystyle \\frac{x^{2}}{2} + \\log{\\left(x \\right)} + \\frac{3}{x^{2}}$"
      ],
      "text/plain": [
       "x**2/2 + log(x) + 3/x**2"
      ]
     },
     "execution_count": 5,
     "metadata": {},
     "output_type": "execute_result"
    }
   ],
   "source": [
    "# 1. ∫(x^4 + x^2 - 6) / x^3 dx\n",
    "integral_1 = (x**4 + x**2 - 6) / x**3\n",
    "result_1 = integrate(integral_1, x)\n",
    "result_1"
   ]
  },
  {
   "cell_type": "code",
   "execution_count": 6,
   "id": "f8f1bc7b",
   "metadata": {},
   "outputs": [
    {
     "data": {
      "text/latex": [
       "$\\displaystyle \\frac{\\sin{\\left(2 x \\right)}}{2}$"
      ],
      "text/plain": [
       "sin(2*x)/2"
      ]
     },
     "execution_count": 6,
     "metadata": {},
     "output_type": "execute_result"
    }
   ],
   "source": [
    "# 2. ∫cos(2x) dx\n",
    "integral_2 = cos(2*x)\n",
    "result_2 = integrate(integral_2, x)\n",
    "result_2"
   ]
  },
  {
   "cell_type": "code",
   "execution_count": 7,
   "id": "0adb68a5",
   "metadata": {},
   "outputs": [
    {
     "data": {
      "text/latex": [
       "$\\displaystyle \\frac{\\sqrt{3} \\operatorname{atan}{\\left(\\sqrt{3} x \\right)}}{3}$"
      ],
      "text/plain": [
       "sqrt(3)*atan(sqrt(3)*x)/3"
      ]
     },
     "execution_count": 7,
     "metadata": {},
     "output_type": "execute_result"
    }
   ],
   "source": [
    "# 3. ∫dx / (3x^2 + 1)\n",
    "integral_3 = 1 / (3*x**2 + 1)\n",
    "result_3 = integrate(integral_3, x)\n",
    "result_3"
   ]
  },
  {
   "cell_type": "code",
   "execution_count": 8,
   "id": "a4df19b5",
   "metadata": {},
   "outputs": [
    {
     "data": {
      "text/latex": [
       "$\\displaystyle \\frac{5 \\sqrt{x^{2}}}{2} - \\frac{\\log{\\left(\\sqrt{x^{2}} \\right)}}{2}$"
      ],
      "text/plain": [
       "5*sqrt(x**2)/2 - log(sqrt(x**2))/2"
      ]
     },
     "execution_count": 8,
     "metadata": {},
     "output_type": "execute_result"
    }
   ],
   "source": [
    "# 4. ∫(5x - 1) / √(4x^2) dx\n",
    "integral_4 = (5*x - 1) / sqrt(4*x**2)\n",
    "result_4 = integrate(integral_4, x)\n",
    "result_4"
   ]
  },
  {
   "cell_type": "code",
   "execution_count": 9,
   "id": "8d7cffd4",
   "metadata": {},
   "outputs": [
    {
     "data": {
      "text/latex": [
       "$\\displaystyle \\int \\frac{1}{\\sqrt{x \\left(\\sqrt{x} + 1\\right)}}\\, dx$"
      ],
      "text/plain": [
       "Integral(1/sqrt(x*(sqrt(x) + 1)), x)"
      ]
     },
     "execution_count": 9,
     "metadata": {},
     "output_type": "execute_result"
    }
   ],
   "source": [
    "# 5. ∫dx / √(x(1 + √x))\n",
    "integral_5 = 1 / sqrt(x*(1 + sqrt(x)))\n",
    "result_5 = integrate(integral_5, x)\n",
    "result_5"
   ]
  },
  {
   "cell_type": "code",
   "execution_count": 10,
   "id": "9c14c20a",
   "metadata": {},
   "outputs": [
    {
     "data": {
      "text/latex": [
       "$\\displaystyle x^{2} \\sin{\\left(x \\right)} + 2 x \\cos{\\left(x \\right)} - 2 \\sin{\\left(x \\right)}$"
      ],
      "text/plain": [
       "x**2*sin(x) + 2*x*cos(x) - 2*sin(x)"
      ]
     },
     "execution_count": 10,
     "metadata": {},
     "output_type": "execute_result"
    }
   ],
   "source": [
    "# 6. ∫x^2 cos(x) dx\n",
    "integral_6 = x**2 * cos(x)\n",
    "result_6 = integrate(integral_6, x)\n",
    "result_6"
   ]
  },
  {
   "cell_type": "code",
   "execution_count": 11,
   "id": "cb93d9cc",
   "metadata": {},
   "outputs": [
    {
     "data": {
      "text/latex": [
       "$\\displaystyle x \\operatorname{atan}{\\left(x \\right)} - \\frac{\\log{\\left(x^{2} + 1 \\right)}}{2}$"
      ],
      "text/plain": [
       "x*atan(x) - log(x**2 + 1)/2"
      ]
     },
     "execution_count": 11,
     "metadata": {},
     "output_type": "execute_result"
    }
   ],
   "source": [
    "# 7. ∫arctan(x) dx\n",
    "integral_7 = atan(x)\n",
    "result_7 = integrate(integral_7, x)\n",
    "result_7"
   ]
  },
  {
   "cell_type": "code",
   "execution_count": 12,
   "id": "ce6d2c36",
   "metadata": {},
   "outputs": [
    {
     "data": {
      "text/latex": [
       "$\\displaystyle - \\frac{1}{4 x^{4} - 16 x^{3} + 24 x^{2} - 16 x + 4}$"
      ],
      "text/plain": [
       "-1/(4*x**4 - 16*x**3 + 24*x**2 - 16*x + 4)"
      ]
     },
     "execution_count": 12,
     "metadata": {},
     "output_type": "execute_result"
    }
   ],
   "source": [
    "# 8. ∫dx / (x - 1)^5\n",
    "integral_8 = 1 / (x - 1)**5\n",
    "result_8 = integrate(integral_8, x)\n",
    "result_8"
   ]
  },
  {
   "cell_type": "code",
   "execution_count": 13,
   "id": "c0ebf87f",
   "metadata": {},
   "outputs": [
    {
     "data": {
      "text/latex": [
       "$\\displaystyle \\frac{\\log{\\left(x^{2} - 2 x + 17 \\right)}}{2} + \\frac{7 \\operatorname{atan}{\\left(\\frac{x}{4} - \\frac{1}{4} \\right)}}{4}$"
      ],
      "text/plain": [
       "log(x**2 - 2*x + 17)/2 + 7*atan(x/4 - 1/4)/4"
      ]
     },
     "execution_count": 13,
     "metadata": {},
     "output_type": "execute_result"
    }
   ],
   "source": [
    "# 9. ∫(x + 6)dx / (x^2 - 2x + 17)\n",
    "integral_9 = (x + 6) / (x**2 - 2*x + 17)\n",
    "result_9 = integrate(integral_9, x)\n",
    "result_9"
   ]
  },
  {
   "cell_type": "code",
   "execution_count": 14,
   "id": "a9779053",
   "metadata": {},
   "outputs": [
    {
     "data": {
      "text/latex": [
       "$\\displaystyle - \\frac{x}{x^{2} + 1}$"
      ],
      "text/plain": [
       "-x/(x**2 + 1)"
      ]
     },
     "execution_count": 14,
     "metadata": {},
     "output_type": "execute_result"
    }
   ],
   "source": [
    "# 10. ∫(x^2 - 1)dx / (x^2 + 1)^2\n",
    "integral_10 = (x**2 - 1) / (x**2 + 1)**2\n",
    "result_10 = integrate(integral_10, x)\n",
    "result_10"
   ]
  },
  {
   "cell_type": "code",
   "execution_count": 15,
   "id": "5d22164c",
   "metadata": {},
   "outputs": [
    {
     "data": {
      "text/latex": [
       "$\\displaystyle \\int \\frac{x^{0.333333333333333}}{\\sqrt{\\sqrt{x} + x^{2}}}\\, dx$"
      ],
      "text/plain": [
       "Integral(x**0.333333333333333/sqrt(sqrt(x) + x**2), x)"
      ]
     },
     "execution_count": 15,
     "metadata": {},
     "output_type": "execute_result"
    }
   ],
   "source": [
    "# 11. ∫x^(1/3)dx / √(x^2 + √x)\n",
    "integral_11 = x**(1/3) / sqrt(x**2 + sqrt(x))\n",
    "result_11 = integrate(integral_11, x)\n",
    "result_11"
   ]
  },
  {
   "cell_type": "code",
   "execution_count": 16,
   "id": "546774f6",
   "metadata": {},
   "outputs": [
    {
     "data": {
      "text/latex": [
       "$\\displaystyle \\frac{1.18163590060368 x^{1.5} {{}_{2}F_{1}\\left(\\begin{matrix} -0.5, 2.25 \\\\ 3.25 \\end{matrix}\\middle| {3 x^{0.666666666666667} e^{i \\pi}} \\right)}}{\\sqrt{\\pi}}$"
      ],
      "text/plain": [
       "1.18163590060368*x**1.5*hyper((-0.5, 2.25), (3.25,), 3*x**0.666666666666667*exp_polar(I*pi))/sqrt(pi)"
      ]
     },
     "execution_count": 16,
     "metadata": {},
     "output_type": "execute_result"
    }
   ],
   "source": [
    "# 12. ∫√x * √(1 + 3 * x^(2/3)) dx\n",
    "integral_12 = sqrt(x) * sqrt(1 + 3 * x**(2/3))\n",
    "result_12 = integrate(integral_12, x)\n",
    "result_12"
   ]
  },
  {
   "cell_type": "code",
   "execution_count": 17,
   "id": "3b74c250",
   "metadata": {},
   "outputs": [
    {
     "data": {
      "text/latex": [
       "$\\displaystyle \\int \\frac{\\sin{\\left(x \\right)}}{\\sin{\\left(x \\right)} + \\sin{\\left(2 x \\right)}}\\, dx$"
      ],
      "text/plain": [
       "Integral(sin(x)/(sin(x) + sin(2*x)), x)"
      ]
     },
     "execution_count": 17,
     "metadata": {},
     "output_type": "execute_result"
    }
   ],
   "source": [
    "# 13. ∫sin(x)dx / (sin(x) + sin(2x))\n",
    "integral_13 = sin(x) / (sin(x) + sin(2*x))\n",
    "result_13 = integrate(integral_13, x)\n",
    "result_13"
   ]
  },
  {
   "cell_type": "code",
   "execution_count": 18,
   "id": "e82720a3",
   "metadata": {},
   "outputs": [
    {
     "data": {
      "text/latex": [
       "$\\displaystyle - \\frac{3 \\sin{\\left(3 x \\right)} \\cos{\\left(5 x \\right)}}{16} + \\frac{5 \\sin{\\left(5 x \\right)} \\cos{\\left(3 x \\right)}}{16}$"
      ],
      "text/plain": [
       "-3*sin(3*x)*cos(5*x)/16 + 5*sin(5*x)*cos(3*x)/16"
      ]
     },
     "execution_count": 18,
     "metadata": {},
     "output_type": "execute_result"
    }
   ],
   "source": [
    "# 14. ∫cos(5x) * cos(3x) dx\n",
    "integral_14 = cos(5*x) * cos(3*x)\n",
    "result_14 = integrate(integral_14, x)\n",
    "result_14"
   ]
  },
  {
   "cell_type": "code",
   "execution_count": 19,
   "id": "7d8de0c5",
   "metadata": {},
   "outputs": [
    {
     "data": {
      "text/latex": [
       "$\\displaystyle x^{2} - \\frac{\\cos{\\left(2 x \\right)}}{2}$"
      ],
      "text/plain": [
       "x**2 - cos(2*x)/2"
      ]
     },
     "execution_count": 19,
     "metadata": {},
     "output_type": "execute_result"
    }
   ],
   "source": [
    "# 15. ∫(2x + sin(2x)) dx\n",
    "integral_15 = 2*x + sin(2*x)\n",
    "result_15 = integrate(integral_15, x)\n",
    "result_15"
   ]
  },
  {
   "cell_type": "code",
   "execution_count": 20,
   "id": "b30dda6f",
   "metadata": {},
   "outputs": [
    {
     "data": {
      "text/latex": [
       "$\\displaystyle \\frac{\\left(4 x - 2\\right)^{\\frac{3}{2}}}{6}$"
      ],
      "text/plain": [
       "(4*x - 2)**(3/2)/6"
      ]
     },
     "execution_count": 20,
     "metadata": {},
     "output_type": "execute_result"
    }
   ],
   "source": [
    "# 16. ∫sqrt(4x - 2) dx\n",
    "integral_16 = sqrt(4*x - 2)\n",
    "result_16 = integrate(integral_16, x)\n",
    "result_16"
   ]
  },
  {
   "cell_type": "code",
   "execution_count": 21,
   "id": "82ec30f8",
   "metadata": {},
   "outputs": [
    {
     "data": {
      "text/latex": [
       "$\\displaystyle \\frac{1}{4}$"
      ],
      "text/plain": [
       "1/4"
      ]
     },
     "execution_count": 21,
     "metadata": {},
     "output_type": "execute_result"
    }
   ],
   "source": [
    "# 17. ∫exp(-4x) dx from 0 to ∞\n",
    "integral_17 = exp(-4*x)\n",
    "result_17 = integrate(integral_17, (x, 0, oo))\n",
    "result_17"
   ]
  },
  {
   "cell_type": "code",
   "execution_count": 22,
   "id": "c699ee44",
   "metadata": {},
   "outputs": [
    {
     "data": {
      "text/latex": [
       "$\\displaystyle -1$"
      ],
      "text/plain": [
       "-1"
      ]
     },
     "execution_count": 22,
     "metadata": {},
     "output_type": "execute_result"
    }
   ],
   "source": [
    "# 18. ∫log(x) dx from 0 to 1\n",
    "integral_18 = log(x)\n",
    "result_18 = integrate(integral_18, (x, 0, 1))\n",
    "result_18"
   ]
  },
  {
   "cell_type": "code",
   "execution_count": null,
   "id": "9ebe7447",
   "metadata": {},
   "outputs": [],
   "source": []
  }
 ],
 "metadata": {
  "kernelspec": {
   "display_name": "Python 3.11.2 64-bit",
   "language": "python",
   "name": "python3"
  },
  "language_info": {
   "codemirror_mode": {
    "name": "ipython",
    "version": 3
   },
   "file_extension": ".py",
   "mimetype": "text/x-python",
   "name": "python",
   "nbconvert_exporter": "python",
   "pygments_lexer": "ipython3",
   "version": "3.11.2"
  },
  "vscode": {
   "interpreter": {
    "hash": "1c629eccfdf8545529de563785dace1040dd62c38aa3fb6e09c82c51165828e0"
   }
  }
 },
 "nbformat": 4,
 "nbformat_minor": 5
}

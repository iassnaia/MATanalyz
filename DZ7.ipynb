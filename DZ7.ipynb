{
 "cells": [
  {
   "cell_type": "markdown",
   "id": "628c8bd8",
   "metadata": {},
   "source": [
    "## Задания к уроку 7"
   ]
  },
  {
   "cell_type": "markdown",
   "id": "c9198e1a",
   "metadata": {},
   "source": [
    "1. Найти интервалы возрастания и убывания функций:"
   ]
  },
  {
   "cell_type": "code",
   "execution_count": 27,
   "id": "db0c2ebe",
   "metadata": {},
   "outputs": [],
   "source": [
    "from sympy import symbols, diff, exp, ln, atan, cos, limit, oo\n",
    "import matplotlib.pyplot as plt\n",
    "import numpy as np"
   ]
  },
  {
   "cell_type": "code",
   "execution_count": 7,
   "id": "7baa2bbc",
   "metadata": {},
   "outputs": [],
   "source": [
    "x = symbols('x')"
   ]
  },
  {
   "cell_type": "code",
   "execution_count": 5,
   "id": "9a5a61c6",
   "metadata": {},
   "outputs": [
    {
     "data": {
      "text/latex": [
       "$\\displaystyle 1 - e^{- x}$"
      ],
      "text/plain": [
       "1 - exp(-x)"
      ]
     },
     "execution_count": 5,
     "metadata": {},
     "output_type": "execute_result"
    }
   ],
   "source": [
    "# 1) f(x) = x + e^(-x)\n",
    "f1 = x + exp(-x)\n",
    "f1_prime = diff(f1, x)\n",
    "f1_prime"
   ]
  },
  {
   "cell_type": "code",
   "execution_count": 8,
   "id": "946023f9",
   "metadata": {},
   "outputs": [
    {
     "data": {
      "text/latex": [
       "$\\displaystyle \\log{\\left(x \\right)} + 1$"
      ],
      "text/plain": [
       "log(x) + 1"
      ]
     },
     "execution_count": 8,
     "metadata": {},
     "output_type": "execute_result"
    }
   ],
   "source": [
    "# 2) f(x) = x ln x\n",
    "f2 = x * ln(x)\n",
    "f2_prime = diff(f2, x)\n",
    "f2_prime"
   ]
  },
  {
   "cell_type": "code",
   "execution_count": 9,
   "id": "17f6f150",
   "metadata": {},
   "outputs": [
    {
     "data": {
      "text/latex": [
       "$\\displaystyle \\frac{2 x}{\\left(1 - x^{2}\\right)^{2}}$"
      ],
      "text/plain": [
       "2*x/(1 - x**2)**2"
      ]
     },
     "execution_count": 9,
     "metadata": {},
     "output_type": "execute_result"
    }
   ],
   "source": [
    "# 3) f(x) = 1 / (1 - x^2)\n",
    "f3 = 1 / (1 - x**2)\n",
    "f3_prime = diff(f3, x)\n",
    "f3_prime"
   ]
  },
  {
   "cell_type": "markdown",
   "id": "c2e2d0fd",
   "metadata": {},
   "source": [
    "2. Найти экстремумы функций:"
   ]
  },
  {
   "cell_type": "code",
   "execution_count": 12,
   "id": "e741c156",
   "metadata": {},
   "outputs": [],
   "source": [
    "x = symbols('x')"
   ]
  },
  {
   "cell_type": "code",
   "execution_count": 13,
   "id": "3d594357",
   "metadata": {},
   "outputs": [
    {
     "data": {
      "text/plain": [
       "[-1, 1]"
      ]
     },
     "execution_count": 13,
     "metadata": {},
     "output_type": "execute_result"
    }
   ],
   "source": [
    "# 1) y = x^3 - 3x + 1\n",
    "y1 = x**3 - 3*x + 1\n",
    "y1_prime = diff(y1, x)\n",
    "extrema_y1 = solve(y1_prime, x)\n",
    "extrema_y1"
   ]
  },
  {
   "cell_type": "code",
   "execution_count": 14,
   "id": "2ee0c3d5",
   "metadata": {},
   "outputs": [
    {
     "data": {
      "text/plain": [
       "[2]"
      ]
     },
     "execution_count": 14,
     "metadata": {},
     "output_type": "execute_result"
    }
   ],
   "source": [
    "# 2) y = e^(x^2 - 4x + 5)\n",
    "y2 = exp(x**2 - 4*x + 5)\n",
    "y2_prime = diff(y2, x)\n",
    "extrema_y2 = solve(y2_prime, x)\n",
    "extrema_y2"
   ]
  },
  {
   "cell_type": "code",
   "execution_count": 15,
   "id": "772c39b9",
   "metadata": {},
   "outputs": [
    {
     "data": {
      "text/plain": [
       "[0]"
      ]
     },
     "execution_count": 15,
     "metadata": {},
     "output_type": "execute_result"
    }
   ],
   "source": [
    "# 3) y = x - atan(x)\n",
    "y3 = x - atan(x)\n",
    "y3_prime = diff(y3, x)\n",
    "extrema_y3 = solve(y3_prime, x)\n",
    "extrema_y3"
   ]
  },
  {
   "cell_type": "markdown",
   "id": "75a5d3e0",
   "metadata": {},
   "source": [
    "3. Найти интервалы выпуклости и точки перегиба функций:"
   ]
  },
  {
   "cell_type": "code",
   "execution_count": 16,
   "id": "b83a6a34",
   "metadata": {},
   "outputs": [],
   "source": [
    "x = symbols('x')"
   ]
  },
  {
   "cell_type": "code",
   "execution_count": 17,
   "id": "ed1c23da",
   "metadata": {},
   "outputs": [
    {
     "data": {
      "text/latex": [
       "$\\displaystyle 2 \\cdot \\left(2 x^{2} - 1\\right) e^{- x^{2}}$"
      ],
      "text/plain": [
       "2*(2*x**2 - 1)*exp(-x**2)"
      ]
     },
     "execution_count": 17,
     "metadata": {},
     "output_type": "execute_result"
    }
   ],
   "source": [
    "# 1) f(x) = e^(-x^2)\n",
    "f1 = exp(-x**2)\n",
    "f1_prime2 = diff(f1, x, x)\n",
    "f1_prime2"
   ]
  },
  {
   "cell_type": "code",
   "execution_count": 20,
   "id": "4e050da4",
   "metadata": {},
   "outputs": [
    {
     "data": {
      "text/latex": [
       "$\\displaystyle - \\cos{\\left(x \\right)}$"
      ],
      "text/plain": [
       "-cos(x)"
      ]
     },
     "execution_count": 20,
     "metadata": {},
     "output_type": "execute_result"
    }
   ],
   "source": [
    "# 2) y = cos(x)\n",
    "f2 = cos(x)\n",
    "f2_prime2 = diff(f2, x, x)\n",
    "f2_prime2"
   ]
  },
  {
   "cell_type": "code",
   "execution_count": 21,
   "id": "f6063528",
   "metadata": {},
   "outputs": [
    {
     "data": {
      "text/latex": [
       "$\\displaystyle 20 \\left(x^{3} - 1\\right)$"
      ],
      "text/plain": [
       "20*(x**3 - 1)"
      ]
     },
     "execution_count": 21,
     "metadata": {},
     "output_type": "execute_result"
    }
   ],
   "source": [
    "# 3) y = x^5 - 10x^2 + 7x\n",
    "f3 = x**5 - 10*x**2 + 7*x\n",
    "f3_prime2 = diff(f3, x, x)\n",
    "f3_prime2"
   ]
  },
  {
   "cell_type": "markdown",
   "id": "dafc2734",
   "metadata": {},
   "source": [
    "4. Найти асимптоты графиков функций"
   ]
  },
  {
   "cell_type": "code",
   "execution_count": 23,
   "id": "4436d038",
   "metadata": {},
   "outputs": [],
   "source": [
    "x = symbols('x')"
   ]
  },
  {
   "cell_type": "code",
   "execution_count": 25,
   "id": "0608d829",
   "metadata": {},
   "outputs": [
    {
     "data": {
      "text/latex": [
       "$\\displaystyle 0$"
      ],
      "text/plain": [
       "0"
      ]
     },
     "execution_count": 25,
     "metadata": {},
     "output_type": "execute_result"
    }
   ],
   "source": [
    "# 1) y = 3x / (x^2 + 1)\n",
    "y1 = 3*x / (x**2 + 1)\n",
    "y1_asymptote = limit(y1, x, oo)\n",
    "y1_asymptote"
   ]
  },
  {
   "cell_type": "code",
   "execution_count": 26,
   "id": "99d4b588",
   "metadata": {},
   "outputs": [
    {
     "data": {
      "text/latex": [
       "$\\displaystyle 1$"
      ],
      "text/plain": [
       "1"
      ]
     },
     "execution_count": 26,
     "metadata": {},
     "output_type": "execute_result"
    }
   ],
   "source": [
    "# 2) y = e^(1/x)\n",
    "y2 = exp(1/x)\n",
    "y2_asymptote = limit(y2, x, oo)\n",
    "y2_asymptote"
   ]
  },
  {
   "cell_type": "markdown",
   "id": "ae0d93bf",
   "metadata": {},
   "source": [
    "5. Провести полное исследование и построить графики функций "
   ]
  },
  {
   "cell_type": "code",
   "execution_count": 28,
   "id": "a8fe682f",
   "metadata": {},
   "outputs": [],
   "source": [
    "x = symbols('x')"
   ]
  },
  {
   "cell_type": "code",
   "execution_count": 36,
   "id": "e33ce366",
   "metadata": {},
   "outputs": [],
   "source": [
    "# 1) y = ln(1 - x^2)\n",
    "y1 = ln(1 - x**2)\n",
    "y1_prime = diff(y1, x)\n",
    "y1_prime2 = diff(y1, x, x)"
   ]
  },
  {
   "cell_type": "code",
   "execution_count": 37,
   "id": "321f382c",
   "metadata": {},
   "outputs": [
    {
     "data": {
      "text/latex": [
       "$\\displaystyle - \\frac{2 x}{1 - x^{2}}$"
      ],
      "text/plain": [
       "-2*x/(1 - x**2)"
      ]
     },
     "execution_count": 37,
     "metadata": {},
     "output_type": "execute_result"
    }
   ],
   "source": [
    "y1_prime"
   ]
  },
  {
   "cell_type": "code",
   "execution_count": 38,
   "id": "f8db987a",
   "metadata": {},
   "outputs": [
    {
     "data": {
      "text/latex": [
       "$\\displaystyle \\frac{2 \\left(- \\frac{2 x^{2}}{x^{2} - 1} + 1\\right)}{x^{2} - 1}$"
      ],
      "text/plain": [
       "2*(-2*x**2/(x**2 - 1) + 1)/(x**2 - 1)"
      ]
     },
     "execution_count": 38,
     "metadata": {},
     "output_type": "execute_result"
    }
   ],
   "source": [
    "y1_prime2"
   ]
  },
  {
   "cell_type": "code",
   "execution_count": 30,
   "id": "87c82a0f",
   "metadata": {},
   "outputs": [
    {
     "data": {
      "image/png": "[encoded data removed]",
      "text/plain": [
       "<Figure size 640x480 with 1 Axes>"
      ]
     },
     "metadata": {},
     "output_type": "display_data"
    }
   ],
   "source": [
    "# Plot\n",
    "x_vals = np.linspace(-0.99, 0.99, 400)\n",
    "y1_vals = np.log(1 - x_vals**2)\n",
    "plt.plot(x_vals, y1_vals, label=\"y = ln(1 - x^2)\")\n",
    "plt.xlabel('x')\n",
    "plt.ylabel('y')\n",
    "plt.legend()\n",
    "plt.grid(True)\n",
    "plt.show()"
   ]
  },
  {
   "cell_type": "code",
   "execution_count": 31,
   "id": "07871900",
   "metadata": {},
   "outputs": [],
   "source": [
    "# 2) y = e^(1 / (1 - x^2))\n",
    "y2 = exp(1 / (1 - x**2))\n",
    "y2_prime = diff(y2, x)\n",
    "y2_prime2 = diff(y2, x, x)"
   ]
  },
  {
   "cell_type": "code",
   "execution_count": 34,
   "id": "ae63f493",
   "metadata": {},
   "outputs": [
    {
     "data": {
      "text/latex": [
       "$\\displaystyle \\frac{2 x e^{\\frac{1}{1 - x^{2}}}}{\\left(1 - x^{2}\\right)^{2}}$"
      ],
      "text/plain": [
       "2*x*exp(1/(1 - x**2))/(1 - x**2)**2"
      ]
     },
     "execution_count": 34,
     "metadata": {},
     "output_type": "execute_result"
    }
   ],
   "source": [
    "y2_prime"
   ]
  },
  {
   "cell_type": "code",
   "execution_count": 35,
   "id": "a2ce04c0",
   "metadata": {},
   "outputs": [
    {
     "data": {
      "text/latex": [
       "$\\displaystyle \\frac{2 \\left(- \\frac{4 x^{2}}{x^{2} - 1} + \\frac{2 x^{2}}{\\left(x^{2} - 1\\right)^{2}} + 1\\right) e^{- \\frac{1}{x^{2} - 1}}}{\\left(x^{2} - 1\\right)^{2}}$"
      ],
      "text/plain": [
       "2*(-4*x**2/(x**2 - 1) + 2*x**2/(x**2 - 1)**2 + 1)*exp(-1/(x**2 - 1))/(x**2 - 1)**2"
      ]
     },
     "execution_count": 35,
     "metadata": {},
     "output_type": "execute_result"
    }
   ],
   "source": [
    "y2_prime2"
   ]
  },
  {
   "cell_type": "code",
   "execution_count": 39,
   "id": "c9bf2c2c",
   "metadata": {},
   "outputs": [
    {
     "data": {
      "image/png": "[encoded data removed]",
      "text/plain": [
       "<Figure size 640x480 with 1 Axes>"
      ]
     },
     "metadata": {},
     "output_type": "display_data"
    }
   ],
   "source": [
    "# Plot\n",
    "x_vals = np.linspace(-0.99, 0.99, 400)\n",
    "y2_vals = np.exp(1 / (1 - x_vals**2))\n",
    "plt.plot(x_vals, y2_vals, label=\"y = e^(1 / (1 - x^2))\")\n",
    "plt.xlabel('x')\n",
    "plt.ylabel('y')\n",
    "plt.legend()\n",
    "plt.grid(True)\n",
    "plt.show()"
   ]
  },
  {
   "cell_type": "code",
   "execution_count": 40,
   "id": "bc2333ff",
   "metadata": {},
   "outputs": [],
   "source": [
    "# 3) y = 1 / (1 - x)\n",
    "y3 = 1 / (1 - x)\n",
    "y3_prime = diff(y3, x)\n",
    "y3_prime2 = diff(y3, x, x)"
   ]
  },
  {
   "cell_type": "code",
   "execution_count": 41,
   "id": "97ac916b",
   "metadata": {},
   "outputs": [
    {
     "data": {
      "text/latex": [
       "$\\displaystyle \\frac{1}{\\left(1 - x\\right)^{2}}$"
      ],
      "text/plain": [
       "(1 - x)**(-2)"
      ]
     },
     "execution_count": 41,
     "metadata": {},
     "output_type": "execute_result"
    }
   ],
   "source": [
    "y3_prime"
   ]
  },
  {
   "cell_type": "code",
   "execution_count": 42,
   "id": "dc06a570",
   "metadata": {},
   "outputs": [
    {
     "data": {
      "text/latex": [
       "$\\displaystyle - \\frac{2}{\\left(x - 1\\right)^{3}}$"
      ],
      "text/plain": [
       "-2/(x - 1)**3"
      ]
     },
     "execution_count": 42,
     "metadata": {},
     "output_type": "execute_result"
    }
   ],
   "source": [
    "y3_prime2"
   ]
  },
  {
   "cell_type": "code",
   "execution_count": 43,
   "id": "e917ade4",
   "metadata": {},
   "outputs": [
    {
     "data": {
      "image/png": "[encoded data removed]",
      "text/plain": [
       "<Figure size 640x480 with 1 Axes>"
      ]
     },
     "metadata": {},
     "output_type": "display_data"
    }
   ],
   "source": [
    "# Plot\n",
    "x_vals = np.linspace(-1.99, 0.99, 400)\n",
    "y3_vals = 1 / (1 - x_vals)\n",
    "plt.plot(x_vals, y3_vals, label=\"y = 1 / (1 - x)\")\n",
    "plt.xlabel('x')\n",
    "plt.ylabel('y')\n",
    "plt.legend()\n",
    "plt.grid(True)\n",
    "plt.show()"
   ]
  },
  {
   "cell_type": "code",
   "execution_count": 44,
   "id": "3413fb2f",
   "metadata": {},
   "outputs": [],
   "source": [
    "# 4) y = x - ln(x)\n",
    "y4 = x - ln(x)\n",
    "y4_prime = diff(y4, x)\n",
    "y4_prime2 = diff(y4, x, x)"
   ]
  },
  {
   "cell_type": "code",
   "execution_count": 45,
   "id": "f850c50b",
   "metadata": {},
   "outputs": [
    {
     "data": {
      "text/latex": [
       "$\\displaystyle 1 - \\frac{1}{x}$"
      ],
      "text/plain": [
       "1 - 1/x"
      ]
     },
     "execution_count": 45,
     "metadata": {},
     "output_type": "execute_result"
    }
   ],
   "source": [
    "y4_prime"
   ]
  },
  {
   "cell_type": "code",
   "execution_count": 46,
   "id": "881c5f9b",
   "metadata": {},
   "outputs": [
    {
     "data": {
      "text/latex": [
       "$\\displaystyle \\frac{1}{x^{2}}$"
      ],
      "text/plain": [
       "x**(-2)"
      ]
     },
     "execution_count": 46,
     "metadata": {},
     "output_type": "execute_result"
    }
   ],
   "source": [
    "y4_prime2"
   ]
  },
  {
   "cell_type": "code",
   "execution_count": 47,
   "id": "3a33e4ad",
   "metadata": {},
   "outputs": [
    {
     "data": {
      "image/png": "[encoded data removed]",
      "text/plain": [
       "<Figure size 640x480 with 1 Axes>"
      ]
     },
     "metadata": {},
     "output_type": "display_data"
    }
   ],
   "source": [
    "# Plot\n",
    "x_vals = np.linspace(0.01, 5, 400)\n",
    "y4_vals = x_vals - np.log(x_vals)\n",
    "plt.plot(x_vals, y4_vals, label=\"y = x - ln(x)\")\n",
    "plt.xlabel('x')\n",
    "plt.ylabel('y')\n",
    "plt.legend()\n",
    "plt.grid(True)\n",
    "plt.show()"
   ]
  },
  {
   "cell_type": "code",
   "execution_count": null,
   "id": "e92bdab9",
   "metadata": {},
   "outputs": [],
   "source": []
  }
 ],
 "metadata": {
  "kernelspec": {
   "display_name": "Python 3 (ipykernel)",
   "language": "python",
   "name": "python3"
  },
  "language_info": {
   "codemirror_mode": {
    "name": "ipython",
    "version": 3
   },
   "file_extension": ".py",
   "mimetype": "text/x-python",
   "name": "python",
   "nbconvert_exporter": "python",
   "pygments_lexer": "ipython3",
   "version": "3.9.13"
  }
 },
 "nbformat": 4,
 "nbformat_minor": 5
}
